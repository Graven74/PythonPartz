{
 "cells": [
  {
   "cell_type": "code",
   "execution_count": 1,
   "metadata": {},
   "outputs": [],
   "source": [
    "import csv, pandas as pd  ,  datetime\n",
    "\n",
    "fname = \"/home/jl/Dropbox/Python Stuff/01_Data/activities.csv\"\n",
    "\n",
    "df = pd.read_csv(fname, header=0)\n",
    "\n",
    "df = df[[\"Name\", 'Type', 'When', 'Dist km', 'Elv m', 'Elapsed Time', 'Moving Time', 'Heart', 'Cal', 'Ride/Run Type', 'Relative Effort', 'Points in red', 'Activity Id']]\n",
    "\n",
    "df[\"dist_km\"] = df[\"Dist km\"] /1000\n",
    "df['date'] = pd.to_datetime(df['When']).dt.normalize()\n",
    "df['year'] = df['date'].apply(lambda x: x.strftime('%Y'))"
   ]
  },
  {
   "cell_type": "code",
   "execution_count": 2,
   "metadata": {},
   "outputs": [],
   "source": [
    "replace_dict = {\n",
    "    \"Name\": \"activity_name\",     'Type': 'type', 'When': 'datetime', 'Elapsed Time': 'time_elapsed', \n",
    "'Moving Time': 'time_moving', 'Heart': 'heart_average', 'Cal': 'calories', 'Ride/Run Type': 'type-sub', \n",
    "'Relative Effort': 'relative_effort', 'Points in red': 'points_in_red', 'Activity Id': 'activity_id', \n",
    "'dist_comb': 'eqkm_distance', 'ascent_comb': 'eqkm_ascent', 'date': 'date', \n",
    "'date_str': 'date_str', 'x_date': 'x_date', 'year': 'year','Elv m': 'elevation_metres', \n",
    "}\n",
    "#normalise the names from replace_dict\n",
    "df = df.rename(columns=replace_dict)\n",
    "#set index\n",
    "df = df.set_index('datetime')"
   ]
  },
  {
   "cell_type": "code",
   "execution_count": 5,
   "metadata": {},
   "outputs": [
    {
     "name": "stdout",
     "output_type": "stream",
     "text": [
      "best_r_squared is 0.951\n",
      "64 metres is equivalent to 1 km flat\n"
     ]
    }
   ],
   "source": [
    "#get the best elevation factor for eqkm\n",
    "\n",
    "from sklearn.linear_model import LinearRegression\n",
    "\n",
    "#just get the runs with more than 100 metres elevation\n",
    "df3 = df[(df.elevation_metres > 100) & (df.type == 'Run') ].copy()\n",
    "\n",
    "best_r_squared = 0\n",
    "best_i = 0\n",
    "\n",
    "# loop through and find the factor that best explains the moving times, that with the best r squared \n",
    "for i in range (1, 200):\n",
    "    df3[\"eqkm\"] = df3[\"dist_km\"] + (df3[\"elevation_metres\"] / i)\n",
    "    model = LinearRegression()\n",
    "    X, y = df3[['eqkm','year']], df3['time_moving']\n",
    "    model.fit(X, y)\n",
    "    r_squared = model.score(X, y)\n",
    "  \n",
    "    if r_squared > best_r_squared:\n",
    "        best_i = i\n",
    "        best_r_squared = r_squared\n",
    "    \n",
    "print(\"best_r_squared is \" +str(  round(best_r_squared ,3)             ))\n",
    "print(str(best_i) + \" metres is equivalent to 1 km flat\")\n",
    "df[\"eqkm\"] = df[\"dist_km\"] + (df[\"elevation_metres\"] / best_i)\n",
    "\n",
    "df[\"eqkm_ascent\"] =  (df[\"elevation_metres\"] / best_i)\n"
   ]
  },
  {
   "cell_type": "code",
   "execution_count": 7,
   "metadata": {},
   "outputs": [],
   "source": [
    "df.to_csv(\"/home/jl/Dropbox/Python Stuff/01_Data/output_veloviewer_run_cumulative.csv\", sep=';', encoding='utf-8', index = False)"
   ]
  }
 ],
 "metadata": {
  "kernelspec": {
   "display_name": "Python 3",
   "language": "python",
   "name": "python3"
  },
  "language_info": {
   "codemirror_mode": {
    "name": "ipython",
    "version": 3
   },
   "file_extension": ".py",
   "mimetype": "text/x-python",
   "name": "python",
   "nbconvert_exporter": "python",
   "pygments_lexer": "ipython3",
   "version": "3.8.1"
  }
 },
 "nbformat": 4,
 "nbformat_minor": 1
}
